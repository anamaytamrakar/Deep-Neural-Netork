{
 "cells": [
  {
   "cell_type": "code",
   "execution_count": 0,
   "metadata": {
    "colab": {},
    "colab_type": "code",
    "id": "ub-EpvlLHdop"
   },
   "outputs": [],
   "source": [
    "from google.colab import drive"
   ]
  },
  {
   "cell_type": "code",
   "execution_count": 2,
   "metadata": {
    "colab": {
     "base_uri": "https://localhost:8080/",
     "height": 34
    },
    "colab_type": "code",
    "executionInfo": {
     "elapsed": 2766,
     "status": "ok",
     "timestamp": 1589713300099,
     "user": {
      "displayName": "Anamay tamrakar",
      "photoUrl": "https://lh3.googleusercontent.com/a-/AOh14GhquhLUHnKEDe6-3g6DT_G8Wu17P9ZKYAQbxLx7qw=s64",
      "userId": "03768491071577504839"
     },
     "user_tz": -330
    },
    "id": "dItHJr81Iq3Z",
    "outputId": "de6d32ac-f591-4e70-8f12-685b1b8d2d75"
   },
   "outputs": [
    {
     "name": "stdout",
     "output_type": "stream",
     "text": [
      "Drive already mounted at /content/drive; to attempt to forcibly remount, call drive.mount(\"/content/drive\", force_remount=True).\n"
     ]
    }
   ],
   "source": [
    "drive.mount('/content/drive')"
   ]
  },
  {
   "cell_type": "markdown",
   "metadata": {
    "colab_type": "text",
    "id": "qrYUTIMmVe0D"
   },
   "source": [
    "# Importing and Loading The Dataset"
   ]
  },
  {
   "cell_type": "code",
   "execution_count": 0,
   "metadata": {
    "colab": {},
    "colab_type": "code",
    "id": "6ZSuG5nLW9RU"
   },
   "outputs": [],
   "source": [
    "import h5py\n",
    "import numpy as np\n",
    "ds = h5py.File('/content/drive/My Drive/Deep Learning/GL_Project1_SVHN/SVHN_single_grey1.h5', 'r')\n",
    "\n",
    "#loading training, test and validation set\n",
    "X_train = ds['X_train'][:]\n",
    "y_train = ds['y_train'][:]\n",
    "X_test = ds['X_test'][:]\n",
    "y_test = ds['y_test'][:]\n",
    "\n",
    "ds.close()"
   ]
  },
  {
   "cell_type": "markdown",
   "metadata": {
    "colab_type": "text",
    "id": "ewLlbg8RJTMs"
   },
   "source": [
    "# Data fetching and understand the train/val/test splits"
   ]
  },
  {
   "cell_type": "code",
   "execution_count": 5,
   "metadata": {
    "colab": {
     "base_uri": "https://localhost:8080/",
     "height": 51
    },
    "colab_type": "code",
    "executionInfo": {
     "elapsed": 957,
     "status": "ok",
     "timestamp": 1589713547161,
     "user": {
      "displayName": "Anamay tamrakar",
      "photoUrl": "https://lh3.googleusercontent.com/a-/AOh14GhquhLUHnKEDe6-3g6DT_G8Wu17P9ZKYAQbxLx7qw=s64",
      "userId": "03768491071577504839"
     },
     "user_tz": -330
    },
    "id": "KhLucNXsXAk0",
    "outputId": "973fa701-79ed-440d-a86c-8a3e45c215e5"
   },
   "outputs": [
    {
     "name": "stdout",
     "output_type": "stream",
     "text": [
      "<class 'numpy.ndarray'> <class 'numpy.ndarray'> <class 'numpy.ndarray'> <class 'numpy.ndarray'>\n",
      "(42000, 32, 32) (42000,) (18000, 32, 32) (18000,)\n"
     ]
    }
   ],
   "source": [
    "print(type(X_train), type(y_train), type(X_test), type(y_test))\n",
    "print(X_train.shape, y_train.shape, X_test.shape, y_test.shape)"
   ]
  },
  {
   "cell_type": "code",
   "execution_count": 0,
   "metadata": {
    "colab": {},
    "colab_type": "code",
    "id": "6GA7q8CSwnYx"
   },
   "outputs": [],
   "source": [
    "# visualizing the first 10 images in the dataset and their labels\n",
    "%matplotlib inline\n",
    "import matplotlib.pyplot as plt\n",
    "plt.figure(figsize=(10, 2))\n",
    "for i in range(10):\n",
    "    plt.subplot(1, 10, i+1)\n",
    "    plt.imshow(X_train[i].reshape(32, 32), cmap=\"gray\")\n",
    "    plt.axis('off')\n",
    "plt.show()\n",
    "print('label for each of the above image: %s' % (y_train[0:10]))"
   ]
  },
  {
   "cell_type": "code",
   "execution_count": 0,
   "metadata": {
    "colab": {},
    "colab_type": "code",
    "id": "sW_glEapXB2U"
   },
   "outputs": [],
   "source": [
    "# Import necessary libraries\n",
    "import tensorflow as tf\n",
    "from tensorflow import keras\n",
    "from keras.models import Sequential, Model\n",
    "from keras.utils import np_utils"
   ]
  },
  {
   "cell_type": "code",
   "execution_count": 10,
   "metadata": {
    "colab": {
     "base_uri": "https://localhost:8080/",
     "height": 34
    },
    "colab_type": "code",
    "executionInfo": {
     "elapsed": 1068,
     "status": "ok",
     "timestamp": 1589713780881,
     "user": {
      "displayName": "Anamay tamrakar",
      "photoUrl": "https://lh3.googleusercontent.com/a-/AOh14GhquhLUHnKEDe6-3g6DT_G8Wu17P9ZKYAQbxLx7qw=s64",
      "userId": "03768491071577504839"
     },
     "user_tz": -330
    },
    "id": "p2IgyQwf751d",
    "outputId": "7a6fa14a-2e2b-4dbc-a70e-5f507e600a89"
   },
   "outputs": [
    {
     "data": {
      "text/plain": [
       "array([0., 0., 1., 0., 0., 0., 0., 0., 0., 0.], dtype=float32)"
      ]
     },
     "execution_count": 10,
     "metadata": {
      "tags": []
     },
     "output_type": "execute_result"
    }
   ],
   "source": [
    "# 1 hot encoding for labels\n",
    "y_train = tf.keras.utils.to_categorical(y_train, num_classes=10)\n",
    "y_test = tf.keras.utils.to_categorical(y_test, num_classes=10)\n",
    "y_train[0]"
   ]
  },
  {
   "cell_type": "markdown",
   "metadata": {
    "colab_type": "text",
    "id": "70kAsNVHJbZe"
   },
   "source": [
    "## Implementing and applying deep neural network classifier including\n",
    "(feedforward neural network, RELU, activations, sigmoid, tanh)"
   ]
  },
  {
   "cell_type": "code",
   "execution_count": 0,
   "metadata": {
    "colab": {},
    "colab_type": "code",
    "id": "eMalHg-8QcS1"
   },
   "outputs": [],
   "source": [
    "# Building the Graph\n",
    "model = tf.keras.models.Sequential() #initializing Sequential model\n",
    "model.add(tf.keras.layers.Reshape((1024,),input_shape=(32,32,))) #Reshaping the data to 1D.\n",
    "model.add(tf.keras.layers.BatchNormalization()) #Normalize the data\n"
   ]
  },
  {
   "cell_type": "code",
   "execution_count": 0,
   "metadata": {
    "colab": {},
    "colab_type": "code",
    "id": "OcNCcw2bWUe5"
   },
   "outputs": [],
   "source": [
    "# Build the layers with Sigmoid function\n",
    "\n",
    "model.add(tf.keras.layers.Dense(400, activation = 'sigmoid')) # 1st hidden layer\n",
    "model.add(tf.keras.layers.Dense(200, activation = 'sigmoid')) # 2nd hidden layer\n",
    "model.add(tf.keras.layers.Dense(100, activation = 'sigmoid')) # 3rd hidden layer\n",
    "model.add(tf.keras.layers.Dense(50, activation = 'sigmoid')) # 4th hidden layer\n",
    "model.add(tf.keras.layers.Dense(10, activation = 'softmax')) # Output layer\n",
    "\n",
    "# compile the model\n",
    "model.compile(optimizer='adam', loss = 'categorical_crossentropy', metrics=['accuracy'] )"
   ]
  },
  {
   "cell_type": "markdown",
   "metadata": {
    "colab_type": "text",
    "id": "zCjQoZCteiDO"
   },
   "source": [
    "Model Accuray reached with sigmoid after 100 epochs - loss: 0.2557 - accuracy: 0.9155 - val_loss: 0.5022 - val_accuracy: 0.8648"
   ]
  },
  {
   "cell_type": "code",
   "execution_count": 14,
   "metadata": {
    "colab": {
     "base_uri": "https://localhost:8080/",
     "height": 399
    },
    "colab_type": "code",
    "executionInfo": {
     "elapsed": 991,
     "status": "ok",
     "timestamp": 1589714281335,
     "user": {
      "displayName": "Anamay tamrakar",
      "photoUrl": "https://lh3.googleusercontent.com/a-/AOh14GhquhLUHnKEDe6-3g6DT_G8Wu17P9ZKYAQbxLx7qw=s64",
      "userId": "03768491071577504839"
     },
     "user_tz": -330
    },
    "id": "Yf3SeFNtWpsz",
    "outputId": "0c9211d2-ad84-47f0-fa2f-90afe592831f"
   },
   "outputs": [
    {
     "name": "stdout",
     "output_type": "stream",
     "text": [
      "Model: \"sequential\"\n",
      "_________________________________________________________________\n",
      "Layer (type)                 Output Shape              Param #   \n",
      "=================================================================\n",
      "reshape (Reshape)            (None, 1024)              0         \n",
      "_________________________________________________________________\n",
      "batch_normalization (BatchNo (None, 1024)              4096      \n",
      "_________________________________________________________________\n",
      "dense (Dense)                (None, 400)               410000    \n",
      "_________________________________________________________________\n",
      "dense_1 (Dense)              (None, 200)               80200     \n",
      "_________________________________________________________________\n",
      "dense_2 (Dense)              (None, 100)               20100     \n",
      "_________________________________________________________________\n",
      "dense_3 (Dense)              (None, 50)                5050      \n",
      "_________________________________________________________________\n",
      "dense_4 (Dense)              (None, 10)                510       \n",
      "=================================================================\n",
      "Total params: 519,956\n",
      "Trainable params: 517,908\n",
      "Non-trainable params: 2,048\n",
      "_________________________________________________________________\n"
     ]
    }
   ],
   "source": [
    "model.summary()"
   ]
  },
  {
   "cell_type": "code",
   "execution_count": 17,
   "metadata": {
    "colab": {
     "base_uri": "https://localhost:8080/",
     "height": 1000
    },
    "colab_type": "code",
    "executionInfo": {
     "elapsed": 1090757,
     "status": "ok",
     "timestamp": 1589715855699,
     "user": {
      "displayName": "Anamay tamrakar",
      "photoUrl": "https://lh3.googleusercontent.com/a-/AOh14GhquhLUHnKEDe6-3g6DT_G8Wu17P9ZKYAQbxLx7qw=s64",
      "userId": "03768491071577504839"
     },
     "user_tz": -330
    },
    "id": "2UImMKshW2Ay",
    "outputId": "a6c113a7-1656-4171-c723-efba832ac033"
   },
   "outputs": [
    {
     "name": "stdout",
     "output_type": "stream",
     "text": [
      "Epoch 1/100\n",
      "1313/1313 [==============================] - 10s 8ms/step - loss: 0.4301 - accuracy: 0.8620 - val_loss: 0.4721 - val_accuracy: 0.8580\n",
      "Epoch 2/100\n",
      "1313/1313 [==============================] - 11s 8ms/step - loss: 0.4262 - accuracy: 0.8613 - val_loss: 0.4757 - val_accuracy: 0.8558\n",
      "Epoch 3/100\n",
      "1313/1313 [==============================] - 11s 8ms/step - loss: 0.4220 - accuracy: 0.8635 - val_loss: 0.5013 - val_accuracy: 0.8467\n",
      "Epoch 4/100\n",
      "1313/1313 [==============================] - 10s 8ms/step - loss: 0.4133 - accuracy: 0.8678 - val_loss: 0.4807 - val_accuracy: 0.8562\n",
      "Epoch 5/100\n",
      "1313/1313 [==============================] - 10s 8ms/step - loss: 0.4097 - accuracy: 0.8681 - val_loss: 0.4671 - val_accuracy: 0.8576\n",
      "Epoch 6/100\n",
      "1313/1313 [==============================] - 11s 8ms/step - loss: 0.4070 - accuracy: 0.8704 - val_loss: 0.4905 - val_accuracy: 0.8494\n",
      "Epoch 7/100\n",
      "1313/1313 [==============================] - 10s 8ms/step - loss: 0.4021 - accuracy: 0.8716 - val_loss: 0.4856 - val_accuracy: 0.8541\n",
      "Epoch 8/100\n",
      "1313/1313 [==============================] - 10s 8ms/step - loss: 0.3944 - accuracy: 0.8734 - val_loss: 0.4709 - val_accuracy: 0.8561\n",
      "Epoch 9/100\n",
      "1313/1313 [==============================] - 10s 8ms/step - loss: 0.3866 - accuracy: 0.8768 - val_loss: 0.4826 - val_accuracy: 0.8551\n",
      "Epoch 10/100\n",
      "1313/1313 [==============================] - 10s 8ms/step - loss: 0.3885 - accuracy: 0.8757 - val_loss: 0.4723 - val_accuracy: 0.8572\n",
      "Epoch 11/100\n",
      "1313/1313 [==============================] - 10s 8ms/step - loss: 0.3891 - accuracy: 0.8747 - val_loss: 0.4599 - val_accuracy: 0.8614\n",
      "Epoch 12/100\n",
      "1313/1313 [==============================] - 11s 8ms/step - loss: 0.3806 - accuracy: 0.8771 - val_loss: 0.4838 - val_accuracy: 0.8545\n",
      "Epoch 13/100\n",
      "1313/1313 [==============================] - 10s 8ms/step - loss: 0.3817 - accuracy: 0.8772 - val_loss: 0.4674 - val_accuracy: 0.8604\n",
      "Epoch 14/100\n",
      "1313/1313 [==============================] - 10s 8ms/step - loss: 0.3802 - accuracy: 0.8763 - val_loss: 0.4940 - val_accuracy: 0.8533\n",
      "Epoch 15/100\n",
      "1313/1313 [==============================] - 10s 8ms/step - loss: 0.3766 - accuracy: 0.8793 - val_loss: 0.4675 - val_accuracy: 0.8627\n",
      "Epoch 16/100\n",
      "1313/1313 [==============================] - 10s 8ms/step - loss: 0.3680 - accuracy: 0.8823 - val_loss: 0.4790 - val_accuracy: 0.8587\n",
      "Epoch 17/100\n",
      "1313/1313 [==============================] - 10s 8ms/step - loss: 0.3649 - accuracy: 0.8820 - val_loss: 0.4753 - val_accuracy: 0.8589\n",
      "Epoch 18/100\n",
      "1313/1313 [==============================] - 10s 8ms/step - loss: 0.3604 - accuracy: 0.8835 - val_loss: 0.4750 - val_accuracy: 0.8581\n",
      "Epoch 19/100\n",
      "1313/1313 [==============================] - 10s 8ms/step - loss: 0.3612 - accuracy: 0.8850 - val_loss: 0.4778 - val_accuracy: 0.8583\n",
      "Epoch 20/100\n",
      "1313/1313 [==============================] - 10s 8ms/step - loss: 0.3574 - accuracy: 0.8837 - val_loss: 0.4738 - val_accuracy: 0.8593\n",
      "Epoch 21/100\n",
      "1313/1313 [==============================] - 10s 8ms/step - loss: 0.3559 - accuracy: 0.8853 - val_loss: 0.4784 - val_accuracy: 0.8577\n",
      "Epoch 22/100\n",
      "1313/1313 [==============================] - 10s 8ms/step - loss: 0.3494 - accuracy: 0.8873 - val_loss: 0.4851 - val_accuracy: 0.8574\n",
      "Epoch 23/100\n",
      "1313/1313 [==============================] - 10s 8ms/step - loss: 0.3481 - accuracy: 0.8880 - val_loss: 0.4765 - val_accuracy: 0.8566\n",
      "Epoch 24/100\n",
      "1313/1313 [==============================] - 10s 8ms/step - loss: 0.3437 - accuracy: 0.8890 - val_loss: 0.4870 - val_accuracy: 0.8569\n",
      "Epoch 25/100\n",
      "1313/1313 [==============================] - 10s 8ms/step - loss: 0.3458 - accuracy: 0.8881 - val_loss: 0.4819 - val_accuracy: 0.8573\n",
      "Epoch 26/100\n",
      "1313/1313 [==============================] - 10s 8ms/step - loss: 0.3476 - accuracy: 0.8893 - val_loss: 0.4901 - val_accuracy: 0.8581\n",
      "Epoch 27/100\n",
      "1313/1313 [==============================] - 10s 8ms/step - loss: 0.3413 - accuracy: 0.8895 - val_loss: 0.4789 - val_accuracy: 0.8590\n",
      "Epoch 28/100\n",
      "1313/1313 [==============================] - 10s 8ms/step - loss: 0.3420 - accuracy: 0.8910 - val_loss: 0.4899 - val_accuracy: 0.8579\n",
      "Epoch 29/100\n",
      "1313/1313 [==============================] - 11s 8ms/step - loss: 0.3398 - accuracy: 0.8911 - val_loss: 0.4754 - val_accuracy: 0.8602\n",
      "Epoch 30/100\n",
      "1313/1313 [==============================] - 11s 8ms/step - loss: 0.3331 - accuracy: 0.8920 - val_loss: 0.4865 - val_accuracy: 0.8592\n",
      "Epoch 31/100\n",
      "1313/1313 [==============================] - 11s 8ms/step - loss: 0.3356 - accuracy: 0.8914 - val_loss: 0.4949 - val_accuracy: 0.8573\n",
      "Epoch 32/100\n",
      "1313/1313 [==============================] - 11s 8ms/step - loss: 0.3301 - accuracy: 0.8910 - val_loss: 0.4632 - val_accuracy: 0.8629\n",
      "Epoch 33/100\n",
      "1313/1313 [==============================] - 11s 9ms/step - loss: 0.3298 - accuracy: 0.8925 - val_loss: 0.4751 - val_accuracy: 0.8611\n",
      "Epoch 34/100\n",
      "1313/1313 [==============================] - 11s 8ms/step - loss: 0.3280 - accuracy: 0.8935 - val_loss: 0.4748 - val_accuracy: 0.8614\n",
      "Epoch 35/100\n",
      "1313/1313 [==============================] - 11s 8ms/step - loss: 0.3271 - accuracy: 0.8949 - val_loss: 0.4774 - val_accuracy: 0.8617\n",
      "Epoch 36/100\n",
      "1313/1313 [==============================] - 11s 9ms/step - loss: 0.3227 - accuracy: 0.8950 - val_loss: 0.4669 - val_accuracy: 0.8645\n",
      "Epoch 37/100\n",
      "1313/1313 [==============================] - 11s 8ms/step - loss: 0.3265 - accuracy: 0.8950 - val_loss: 0.4757 - val_accuracy: 0.8626\n",
      "Epoch 38/100\n",
      "1313/1313 [==============================] - 11s 8ms/step - loss: 0.3142 - accuracy: 0.8970 - val_loss: 0.4925 - val_accuracy: 0.8616\n",
      "Epoch 39/100\n",
      "1313/1313 [==============================] - 12s 9ms/step - loss: 0.3254 - accuracy: 0.8921 - val_loss: 0.4719 - val_accuracy: 0.8627\n",
      "Epoch 40/100\n",
      "1313/1313 [==============================] - 14s 11ms/step - loss: 0.3170 - accuracy: 0.8973 - val_loss: 0.4832 - val_accuracy: 0.8644\n",
      "Epoch 41/100\n",
      "1313/1313 [==============================] - 11s 8ms/step - loss: 0.3112 - accuracy: 0.8991 - val_loss: 0.4906 - val_accuracy: 0.8582\n",
      "Epoch 42/100\n",
      "1313/1313 [==============================] - 11s 8ms/step - loss: 0.3095 - accuracy: 0.9002 - val_loss: 0.4986 - val_accuracy: 0.8569\n",
      "Epoch 43/100\n",
      "1313/1313 [==============================] - 11s 8ms/step - loss: 0.3061 - accuracy: 0.9014 - val_loss: 0.4812 - val_accuracy: 0.8653\n",
      "Epoch 44/100\n",
      "1313/1313 [==============================] - 11s 8ms/step - loss: 0.3003 - accuracy: 0.9029 - val_loss: 0.5045 - val_accuracy: 0.8571\n",
      "Epoch 45/100\n",
      "1313/1313 [==============================] - 11s 8ms/step - loss: 0.3084 - accuracy: 0.8989 - val_loss: 0.4705 - val_accuracy: 0.8647\n",
      "Epoch 46/100\n",
      "1313/1313 [==============================] - 11s 8ms/step - loss: 0.3033 - accuracy: 0.9011 - val_loss: 0.4769 - val_accuracy: 0.8677\n",
      "Epoch 47/100\n",
      "1313/1313 [==============================] - 11s 8ms/step - loss: 0.3098 - accuracy: 0.8994 - val_loss: 0.4835 - val_accuracy: 0.8633\n",
      "Epoch 48/100\n",
      "1313/1313 [==============================] - 11s 8ms/step - loss: 0.3019 - accuracy: 0.9023 - val_loss: 0.4771 - val_accuracy: 0.8666\n",
      "Epoch 49/100\n",
      "1313/1313 [==============================] - 11s 8ms/step - loss: 0.3011 - accuracy: 0.9025 - val_loss: 0.4821 - val_accuracy: 0.8623\n",
      "Epoch 50/100\n",
      "1313/1313 [==============================] - 11s 8ms/step - loss: 0.3014 - accuracy: 0.9035 - val_loss: 0.5091 - val_accuracy: 0.8577\n",
      "Epoch 51/100\n",
      "1313/1313 [==============================] - 11s 8ms/step - loss: 0.2990 - accuracy: 0.9042 - val_loss: 0.4881 - val_accuracy: 0.8646\n",
      "Epoch 52/100\n",
      "1313/1313 [==============================] - 11s 8ms/step - loss: 0.2944 - accuracy: 0.9041 - val_loss: 0.4860 - val_accuracy: 0.8611\n",
      "Epoch 53/100\n",
      "1313/1313 [==============================] - 11s 8ms/step - loss: 0.2951 - accuracy: 0.9032 - val_loss: 0.4912 - val_accuracy: 0.8604\n",
      "Epoch 54/100\n",
      "1313/1313 [==============================] - 11s 9ms/step - loss: 0.2987 - accuracy: 0.9043 - val_loss: 0.4812 - val_accuracy: 0.8637\n",
      "Epoch 55/100\n",
      "1313/1313 [==============================] - 11s 8ms/step - loss: 0.2922 - accuracy: 0.9047 - val_loss: 0.4839 - val_accuracy: 0.8644\n",
      "Epoch 56/100\n",
      "1313/1313 [==============================] - 11s 8ms/step - loss: 0.2922 - accuracy: 0.9053 - val_loss: 0.4781 - val_accuracy: 0.8673\n",
      "Epoch 57/100\n",
      "1313/1313 [==============================] - 11s 9ms/step - loss: 0.2920 - accuracy: 0.9044 - val_loss: 0.4844 - val_accuracy: 0.8627\n",
      "Epoch 58/100\n",
      "1313/1313 [==============================] - 11s 8ms/step - loss: 0.2893 - accuracy: 0.9049 - val_loss: 0.4918 - val_accuracy: 0.8597\n",
      "Epoch 59/100\n",
      "1313/1313 [==============================] - 11s 8ms/step - loss: 0.2890 - accuracy: 0.9066 - val_loss: 0.4785 - val_accuracy: 0.8651\n",
      "Epoch 60/100\n",
      "1313/1313 [==============================] - 11s 8ms/step - loss: 0.2890 - accuracy: 0.9066 - val_loss: 0.4877 - val_accuracy: 0.8632\n",
      "Epoch 61/100\n",
      "1313/1313 [==============================] - 11s 9ms/step - loss: 0.2884 - accuracy: 0.9062 - val_loss: 0.4993 - val_accuracy: 0.8606\n",
      "Epoch 62/100\n",
      "1313/1313 [==============================] - 11s 8ms/step - loss: 0.2866 - accuracy: 0.9074 - val_loss: 0.4890 - val_accuracy: 0.8660\n",
      "Epoch 63/100\n",
      "1313/1313 [==============================] - 11s 9ms/step - loss: 0.2837 - accuracy: 0.9085 - val_loss: 0.4921 - val_accuracy: 0.8631\n",
      "Epoch 64/100\n",
      "1313/1313 [==============================] - 12s 9ms/step - loss: 0.2840 - accuracy: 0.9076 - val_loss: 0.4897 - val_accuracy: 0.8637\n",
      "Epoch 65/100\n",
      "1313/1313 [==============================] - 11s 9ms/step - loss: 0.2794 - accuracy: 0.9089 - val_loss: 0.4927 - val_accuracy: 0.8659\n",
      "Epoch 66/100\n",
      "1313/1313 [==============================] - 11s 8ms/step - loss: 0.2816 - accuracy: 0.9077 - val_loss: 0.4793 - val_accuracy: 0.8665\n",
      "Epoch 67/100\n",
      "1313/1313 [==============================] - 11s 8ms/step - loss: 0.2868 - accuracy: 0.9067 - val_loss: 0.4899 - val_accuracy: 0.8623\n",
      "Epoch 68/100\n",
      "1313/1313 [==============================] - 11s 8ms/step - loss: 0.2776 - accuracy: 0.9097 - val_loss: 0.4820 - val_accuracy: 0.8640\n",
      "Epoch 69/100\n",
      "1313/1313 [==============================] - 11s 9ms/step - loss: 0.2785 - accuracy: 0.9093 - val_loss: 0.4918 - val_accuracy: 0.8619\n",
      "Epoch 70/100\n",
      "1313/1313 [==============================] - 11s 8ms/step - loss: 0.2762 - accuracy: 0.9107 - val_loss: 0.4916 - val_accuracy: 0.8640\n",
      "Epoch 71/100\n",
      "1313/1313 [==============================] - 11s 8ms/step - loss: 0.2764 - accuracy: 0.9088 - val_loss: 0.5028 - val_accuracy: 0.8637\n",
      "Epoch 72/100\n",
      "1313/1313 [==============================] - 11s 8ms/step - loss: 0.2689 - accuracy: 0.9124 - val_loss: 0.5089 - val_accuracy: 0.8606\n",
      "Epoch 73/100\n",
      "1313/1313 [==============================] - 11s 8ms/step - loss: 0.2778 - accuracy: 0.9088 - val_loss: 0.5017 - val_accuracy: 0.8631\n",
      "Epoch 74/100\n",
      "1313/1313 [==============================] - 11s 8ms/step - loss: 0.2770 - accuracy: 0.9102 - val_loss: 0.4970 - val_accuracy: 0.8620\n",
      "Epoch 75/100\n",
      "1313/1313 [==============================] - 11s 8ms/step - loss: 0.2748 - accuracy: 0.9115 - val_loss: 0.5138 - val_accuracy: 0.8573\n",
      "Epoch 76/100\n",
      "1313/1313 [==============================] - 11s 8ms/step - loss: 0.2717 - accuracy: 0.9122 - val_loss: 0.4819 - val_accuracy: 0.8657\n",
      "Epoch 77/100\n",
      "1313/1313 [==============================] - 11s 8ms/step - loss: 0.2730 - accuracy: 0.9108 - val_loss: 0.4932 - val_accuracy: 0.8653\n",
      "Epoch 78/100\n",
      "1313/1313 [==============================] - 11s 8ms/step - loss: 0.2672 - accuracy: 0.9129 - val_loss: 0.4904 - val_accuracy: 0.8609\n",
      "Epoch 79/100\n",
      "1313/1313 [==============================] - 11s 8ms/step - loss: 0.2601 - accuracy: 0.9150 - val_loss: 0.5053 - val_accuracy: 0.8649\n",
      "Epoch 80/100\n",
      "1313/1313 [==============================] - 11s 8ms/step - loss: 0.2646 - accuracy: 0.9139 - val_loss: 0.4969 - val_accuracy: 0.8657\n",
      "Epoch 81/100\n",
      "1313/1313 [==============================] - 11s 8ms/step - loss: 0.2643 - accuracy: 0.9155 - val_loss: 0.5091 - val_accuracy: 0.8619\n",
      "Epoch 82/100\n",
      "1313/1313 [==============================] - 11s 8ms/step - loss: 0.2636 - accuracy: 0.9131 - val_loss: 0.5106 - val_accuracy: 0.8597\n",
      "Epoch 83/100\n",
      "1313/1313 [==============================] - 11s 8ms/step - loss: 0.2656 - accuracy: 0.9135 - val_loss: 0.5120 - val_accuracy: 0.8589\n",
      "Epoch 84/100\n",
      "1313/1313 [==============================] - 11s 8ms/step - loss: 0.2645 - accuracy: 0.9149 - val_loss: 0.5071 - val_accuracy: 0.8611\n",
      "Epoch 85/100\n",
      "1313/1313 [==============================] - 11s 8ms/step - loss: 0.2633 - accuracy: 0.9133 - val_loss: 0.5057 - val_accuracy: 0.8659\n",
      "Epoch 86/100\n",
      "1313/1313 [==============================] - 11s 8ms/step - loss: 0.2643 - accuracy: 0.9137 - val_loss: 0.5147 - val_accuracy: 0.8622\n",
      "Epoch 87/100\n",
      "1313/1313 [==============================] - 11s 8ms/step - loss: 0.2623 - accuracy: 0.9141 - val_loss: 0.5076 - val_accuracy: 0.8638\n",
      "Epoch 88/100\n",
      "1313/1313 [==============================] - 11s 8ms/step - loss: 0.2618 - accuracy: 0.9144 - val_loss: 0.4866 - val_accuracy: 0.8652\n",
      "Epoch 89/100\n",
      "1313/1313 [==============================] - 12s 9ms/step - loss: 0.2576 - accuracy: 0.9146 - val_loss: 0.5223 - val_accuracy: 0.8611\n",
      "Epoch 90/100\n",
      "1313/1313 [==============================] - 11s 8ms/step - loss: 0.2604 - accuracy: 0.9147 - val_loss: 0.5081 - val_accuracy: 0.8628\n",
      "Epoch 91/100\n",
      "1313/1313 [==============================] - 11s 9ms/step - loss: 0.2651 - accuracy: 0.9138 - val_loss: 0.4964 - val_accuracy: 0.8663\n",
      "Epoch 92/100\n",
      "1313/1313 [==============================] - 11s 9ms/step - loss: 0.2502 - accuracy: 0.9190 - val_loss: 0.5128 - val_accuracy: 0.8631\n",
      "Epoch 93/100\n",
      "1313/1313 [==============================] - 11s 8ms/step - loss: 0.2601 - accuracy: 0.9160 - val_loss: 0.5210 - val_accuracy: 0.8591\n",
      "Epoch 94/100\n",
      "1313/1313 [==============================] - 12s 9ms/step - loss: 0.2526 - accuracy: 0.9171 - val_loss: 0.5075 - val_accuracy: 0.8614\n",
      "Epoch 95/100\n",
      "1313/1313 [==============================] - 14s 11ms/step - loss: 0.2558 - accuracy: 0.9155 - val_loss: 0.5013 - val_accuracy: 0.8631\n",
      "Epoch 96/100\n",
      "1313/1313 [==============================] - 11s 9ms/step - loss: 0.2499 - accuracy: 0.9172 - val_loss: 0.5065 - val_accuracy: 0.8641\n",
      "Epoch 97/100\n",
      "1313/1313 [==============================] - 11s 8ms/step - loss: 0.2557 - accuracy: 0.9155 - val_loss: 0.5022 - val_accuracy: 0.8648\n",
      "Epoch 98/100\n",
      "1313/1313 [==============================] - 11s 8ms/step - loss: 0.2526 - accuracy: 0.9173 - val_loss: 0.5120 - val_accuracy: 0.8641\n",
      "Epoch 99/100\n",
      "1313/1313 [==============================] - 11s 9ms/step - loss: 0.2515 - accuracy: 0.9179 - val_loss: 0.5246 - val_accuracy: 0.8625\n",
      "Epoch 100/100\n",
      "1313/1313 [==============================] - 11s 8ms/step - loss: 0.2531 - accuracy: 0.9177 - val_loss: 0.5304 - val_accuracy: 0.8568\n"
     ]
    },
    {
     "data": {
      "text/plain": [
       "<tensorflow.python.keras.callbacks.History at 0x7f750da90b38>"
      ]
     },
     "execution_count": 17,
     "metadata": {
      "tags": []
     },
     "output_type": "execute_result"
    }
   ],
   "source": [
    "model.fit(X_train,y_train,validation_data=(X_test,y_test),epochs=100, batch_size=32)"
   ]
  },
  {
   "cell_type": "code",
   "execution_count": 0,
   "metadata": {
    "colab": {},
    "colab_type": "code",
    "id": "Ynw1xkGygLf_"
   },
   "outputs": [],
   "source": [
    "relu_model = tf.keras.models.Sequential() #initializing Sequential model\n",
    "relu_model.add(tf.keras.layers.Reshape((1024,),input_shape=(32,32,))) #Reshaping the data to 1D.\n",
    "relu_model.add(tf.keras.layers.BatchNormalization()) #Normalize the data\n",
    "\n",
    "# Build the layers with ReLU function\n",
    "\n",
    "relu_model.add(tf.keras.layers.Dense(400, activation = 'relu')) # 1st hidden layer\n",
    "relu_model.add(tf.keras.layers.Dense(200, activation = 'relu')) # 2nd hidden layer\n",
    "relu_model.add(tf.keras.layers.Dense(100, activation = 'relu')) # 3rd hidden layer\n",
    "relu_model.add(tf.keras.layers.Dense(50, activation = 'relu')) # 4th hidden layer\n",
    "relu_model.add(tf.keras.layers.Dense(10, activation = 'softmax')) # Output layer\n",
    "\n",
    "# compile the model\n",
    "relu_model.compile(optimizer='adam', loss = 'categorical_crossentropy', metrics=['accuracy'] )"
   ]
  },
  {
   "cell_type": "code",
   "execution_count": 20,
   "metadata": {
    "colab": {
     "base_uri": "https://localhost:8080/",
     "height": 1000
    },
    "colab_type": "code",
    "executionInfo": {
     "elapsed": 1049596,
     "status": "ok",
     "timestamp": 1589717984567,
     "user": {
      "displayName": "Anamay tamrakar",
      "photoUrl": "https://lh3.googleusercontent.com/a-/AOh14GhquhLUHnKEDe6-3g6DT_G8Wu17P9ZKYAQbxLx7qw=s64",
      "userId": "03768491071577504839"
     },
     "user_tz": -330
    },
    "id": "cMG6OvPXg0Ge",
    "outputId": "d97d3b6b-7745-4613-b0cf-c213f04d2076"
   },
   "outputs": [
    {
     "name": "stdout",
     "output_type": "stream",
     "text": [
      "Epoch 1/100\n",
      "1313/1313 [==============================] - 11s 8ms/step - loss: 1.4360 - accuracy: 0.5177 - val_loss: 1.0051 - val_accuracy: 0.6903\n",
      "Epoch 2/100\n",
      "1313/1313 [==============================] - 11s 8ms/step - loss: 0.9838 - accuracy: 0.6870 - val_loss: 0.8259 - val_accuracy: 0.7508\n",
      "Epoch 3/100\n",
      "1313/1313 [==============================] - 11s 9ms/step - loss: 0.8451 - accuracy: 0.7343 - val_loss: 0.7341 - val_accuracy: 0.7803\n",
      "Epoch 4/100\n",
      "1313/1313 [==============================] - 11s 9ms/step - loss: 0.7679 - accuracy: 0.7582 - val_loss: 0.7094 - val_accuracy: 0.7868\n",
      "Epoch 5/100\n",
      "1313/1313 [==============================] - 11s 8ms/step - loss: 0.7153 - accuracy: 0.7748 - val_loss: 0.6398 - val_accuracy: 0.8128\n",
      "Epoch 6/100\n",
      "1313/1313 [==============================] - 11s 8ms/step - loss: 0.6725 - accuracy: 0.7890 - val_loss: 0.6498 - val_accuracy: 0.8081\n",
      "Epoch 7/100\n",
      "1313/1313 [==============================] - 11s 8ms/step - loss: 0.6359 - accuracy: 0.7999 - val_loss: 0.6183 - val_accuracy: 0.8183\n",
      "Epoch 8/100\n",
      "1313/1313 [==============================] - 11s 8ms/step - loss: 0.6049 - accuracy: 0.8093 - val_loss: 0.6057 - val_accuracy: 0.8173\n",
      "Epoch 9/100\n",
      "1313/1313 [==============================] - 10s 8ms/step - loss: 0.5783 - accuracy: 0.8179 - val_loss: 0.6126 - val_accuracy: 0.8218\n",
      "Epoch 10/100\n",
      "1313/1313 [==============================] - 11s 8ms/step - loss: 0.5561 - accuracy: 0.8244 - val_loss: 0.5975 - val_accuracy: 0.8273\n",
      "Epoch 11/100\n",
      "1313/1313 [==============================] - 10s 8ms/step - loss: 0.5441 - accuracy: 0.8270 - val_loss: 0.5527 - val_accuracy: 0.8385\n",
      "Epoch 12/100\n",
      "1313/1313 [==============================] - 10s 8ms/step - loss: 0.5264 - accuracy: 0.8326 - val_loss: 0.5676 - val_accuracy: 0.8323\n",
      "Epoch 13/100\n",
      "1313/1313 [==============================] - 10s 8ms/step - loss: 0.5111 - accuracy: 0.8381 - val_loss: 0.5591 - val_accuracy: 0.8414\n",
      "Epoch 14/100\n",
      "1313/1313 [==============================] - 11s 8ms/step - loss: 0.4896 - accuracy: 0.8450 - val_loss: 0.5548 - val_accuracy: 0.8433\n",
      "Epoch 15/100\n",
      "1313/1313 [==============================] - 11s 8ms/step - loss: 0.4800 - accuracy: 0.8465 - val_loss: 0.5420 - val_accuracy: 0.8462\n",
      "Epoch 16/100\n",
      "1313/1313 [==============================] - 11s 8ms/step - loss: 0.4671 - accuracy: 0.8532 - val_loss: 0.5229 - val_accuracy: 0.8524\n",
      "Epoch 17/100\n",
      "1313/1313 [==============================] - 10s 8ms/step - loss: 0.4583 - accuracy: 0.8525 - val_loss: 0.5323 - val_accuracy: 0.8504\n",
      "Epoch 18/100\n",
      "1313/1313 [==============================] - 10s 8ms/step - loss: 0.4479 - accuracy: 0.8579 - val_loss: 0.5382 - val_accuracy: 0.8440\n",
      "Epoch 19/100\n",
      "1313/1313 [==============================] - 10s 8ms/step - loss: 0.4388 - accuracy: 0.8594 - val_loss: 0.5638 - val_accuracy: 0.8472\n",
      "Epoch 20/100\n",
      "1313/1313 [==============================] - 10s 8ms/step - loss: 0.4325 - accuracy: 0.8636 - val_loss: 0.5448 - val_accuracy: 0.8477\n",
      "Epoch 21/100\n",
      "1313/1313 [==============================] - 10s 8ms/step - loss: 0.4282 - accuracy: 0.8639 - val_loss: 0.5453 - val_accuracy: 0.8510\n",
      "Epoch 22/100\n",
      "1313/1313 [==============================] - 10s 8ms/step - loss: 0.4155 - accuracy: 0.8676 - val_loss: 0.5446 - val_accuracy: 0.8489\n",
      "Epoch 23/100\n",
      "1313/1313 [==============================] - 10s 8ms/step - loss: 0.4126 - accuracy: 0.8696 - val_loss: 0.5505 - val_accuracy: 0.8485\n",
      "Epoch 24/100\n",
      "1313/1313 [==============================] - 10s 8ms/step - loss: 0.4035 - accuracy: 0.8722 - val_loss: 0.5410 - val_accuracy: 0.8527\n",
      "Epoch 25/100\n",
      "1313/1313 [==============================] - 10s 8ms/step - loss: 0.3947 - accuracy: 0.8744 - val_loss: 0.5365 - val_accuracy: 0.8511\n",
      "Epoch 26/100\n",
      "1313/1313 [==============================] - 10s 8ms/step - loss: 0.3899 - accuracy: 0.8758 - val_loss: 0.5464 - val_accuracy: 0.8478\n",
      "Epoch 27/100\n",
      "1313/1313 [==============================] - 10s 8ms/step - loss: 0.3789 - accuracy: 0.8769 - val_loss: 0.5327 - val_accuracy: 0.8576\n",
      "Epoch 28/100\n",
      "1313/1313 [==============================] - 10s 8ms/step - loss: 0.3776 - accuracy: 0.8794 - val_loss: 0.5362 - val_accuracy: 0.8601\n",
      "Epoch 29/100\n",
      "1313/1313 [==============================] - 10s 8ms/step - loss: 0.3770 - accuracy: 0.8803 - val_loss: 0.5621 - val_accuracy: 0.8567\n",
      "Epoch 30/100\n",
      "1313/1313 [==============================] - 10s 8ms/step - loss: 0.3681 - accuracy: 0.8827 - val_loss: 0.5436 - val_accuracy: 0.8592\n",
      "Epoch 31/100\n",
      "1313/1313 [==============================] - 10s 8ms/step - loss: 0.3631 - accuracy: 0.8841 - val_loss: 0.5440 - val_accuracy: 0.8589\n",
      "Epoch 32/100\n",
      "1313/1313 [==============================] - 10s 8ms/step - loss: 0.3551 - accuracy: 0.8864 - val_loss: 0.5336 - val_accuracy: 0.8603\n",
      "Epoch 33/100\n",
      "1313/1313 [==============================] - 11s 8ms/step - loss: 0.3544 - accuracy: 0.8881 - val_loss: 0.5210 - val_accuracy: 0.8620\n",
      "Epoch 34/100\n",
      "1313/1313 [==============================] - 11s 8ms/step - loss: 0.3474 - accuracy: 0.8885 - val_loss: 0.5680 - val_accuracy: 0.8547\n",
      "Epoch 35/100\n",
      "1313/1313 [==============================] - 10s 8ms/step - loss: 0.3521 - accuracy: 0.8875 - val_loss: 0.5657 - val_accuracy: 0.8529\n",
      "Epoch 36/100\n",
      "1313/1313 [==============================] - 10s 8ms/step - loss: 0.3427 - accuracy: 0.8886 - val_loss: 0.5444 - val_accuracy: 0.8551\n",
      "Epoch 37/100\n",
      "1313/1313 [==============================] - 10s 8ms/step - loss: 0.3296 - accuracy: 0.8958 - val_loss: 0.5507 - val_accuracy: 0.8608\n",
      "Epoch 38/100\n",
      "1313/1313 [==============================] - 10s 8ms/step - loss: 0.3370 - accuracy: 0.8931 - val_loss: 0.5490 - val_accuracy: 0.8563\n",
      "Epoch 39/100\n",
      "1313/1313 [==============================] - 10s 8ms/step - loss: 0.3272 - accuracy: 0.8948 - val_loss: 0.5580 - val_accuracy: 0.8592\n",
      "Epoch 40/100\n",
      "1313/1313 [==============================] - 10s 8ms/step - loss: 0.3183 - accuracy: 0.8981 - val_loss: 0.5583 - val_accuracy: 0.8594\n",
      "Epoch 41/100\n",
      "1313/1313 [==============================] - 10s 8ms/step - loss: 0.3292 - accuracy: 0.8950 - val_loss: 0.5505 - val_accuracy: 0.8608\n",
      "Epoch 42/100\n",
      "1313/1313 [==============================] - 10s 8ms/step - loss: 0.3195 - accuracy: 0.8984 - val_loss: 0.5597 - val_accuracy: 0.8589\n",
      "Epoch 43/100\n",
      "1313/1313 [==============================] - 10s 8ms/step - loss: 0.3159 - accuracy: 0.9002 - val_loss: 0.5838 - val_accuracy: 0.8563\n",
      "Epoch 44/100\n",
      "1313/1313 [==============================] - 10s 8ms/step - loss: 0.3167 - accuracy: 0.8983 - val_loss: 0.5570 - val_accuracy: 0.8614\n",
      "Epoch 45/100\n",
      "1313/1313 [==============================] - 11s 8ms/step - loss: 0.3065 - accuracy: 0.9013 - val_loss: 0.5731 - val_accuracy: 0.8635\n",
      "Epoch 46/100\n",
      "1313/1313 [==============================] - 11s 8ms/step - loss: 0.3094 - accuracy: 0.9008 - val_loss: 0.5662 - val_accuracy: 0.8602\n",
      "Epoch 47/100\n",
      "1313/1313 [==============================] - 11s 8ms/step - loss: 0.3042 - accuracy: 0.9016 - val_loss: 0.5804 - val_accuracy: 0.8568\n",
      "Epoch 48/100\n",
      "1313/1313 [==============================] - 11s 8ms/step - loss: 0.3051 - accuracy: 0.9026 - val_loss: 0.5653 - val_accuracy: 0.8606\n",
      "Epoch 49/100\n",
      "1313/1313 [==============================] - 11s 8ms/step - loss: 0.3002 - accuracy: 0.9037 - val_loss: 0.5691 - val_accuracy: 0.8612\n",
      "Epoch 50/100\n",
      "1313/1313 [==============================] - 10s 8ms/step - loss: 0.2921 - accuracy: 0.9075 - val_loss: 0.5564 - val_accuracy: 0.8613\n",
      "Epoch 51/100\n",
      "1313/1313 [==============================] - 10s 8ms/step - loss: 0.2906 - accuracy: 0.9065 - val_loss: 0.5728 - val_accuracy: 0.8648\n",
      "Epoch 52/100\n",
      "1313/1313 [==============================] - 10s 8ms/step - loss: 0.2985 - accuracy: 0.9045 - val_loss: 0.5979 - val_accuracy: 0.8571\n",
      "Epoch 53/100\n",
      "1313/1313 [==============================] - 11s 8ms/step - loss: 0.2896 - accuracy: 0.9071 - val_loss: 0.5914 - val_accuracy: 0.8597\n",
      "Epoch 54/100\n",
      "1313/1313 [==============================] - 11s 8ms/step - loss: 0.2882 - accuracy: 0.9080 - val_loss: 0.5638 - val_accuracy: 0.8657\n",
      "Epoch 55/100\n",
      "1313/1313 [==============================] - 11s 8ms/step - loss: 0.2832 - accuracy: 0.9100 - val_loss: 0.5715 - val_accuracy: 0.8617\n",
      "Epoch 56/100\n",
      "1313/1313 [==============================] - 11s 8ms/step - loss: 0.2799 - accuracy: 0.9109 - val_loss: 0.5946 - val_accuracy: 0.8570\n",
      "Epoch 57/100\n",
      "1313/1313 [==============================] - 11s 8ms/step - loss: 0.2825 - accuracy: 0.9090 - val_loss: 0.6156 - val_accuracy: 0.8592\n",
      "Epoch 58/100\n",
      "1313/1313 [==============================] - 11s 8ms/step - loss: 0.2787 - accuracy: 0.9103 - val_loss: 0.5967 - val_accuracy: 0.8586\n",
      "Epoch 59/100\n",
      "1313/1313 [==============================] - 11s 8ms/step - loss: 0.2767 - accuracy: 0.9095 - val_loss: 0.5941 - val_accuracy: 0.8647\n",
      "Epoch 60/100\n",
      "1313/1313 [==============================] - 11s 8ms/step - loss: 0.2759 - accuracy: 0.9120 - val_loss: 0.5758 - val_accuracy: 0.8639\n",
      "Epoch 61/100\n",
      "1313/1313 [==============================] - 11s 8ms/step - loss: 0.2787 - accuracy: 0.9102 - val_loss: 0.5943 - val_accuracy: 0.8607\n",
      "Epoch 62/100\n",
      "1313/1313 [==============================] - 11s 8ms/step - loss: 0.2750 - accuracy: 0.9126 - val_loss: 0.5910 - val_accuracy: 0.8642\n",
      "Epoch 63/100\n",
      "1313/1313 [==============================] - 12s 9ms/step - loss: 0.2722 - accuracy: 0.9136 - val_loss: 0.5843 - val_accuracy: 0.8615\n",
      "Epoch 64/100\n",
      "1313/1313 [==============================] - 10s 8ms/step - loss: 0.2718 - accuracy: 0.9139 - val_loss: 0.5797 - val_accuracy: 0.8625\n",
      "Epoch 65/100\n",
      "1313/1313 [==============================] - 10s 8ms/step - loss: 0.2663 - accuracy: 0.9146 - val_loss: 0.6207 - val_accuracy: 0.8593\n",
      "Epoch 66/100\n",
      "1313/1313 [==============================] - 10s 8ms/step - loss: 0.2638 - accuracy: 0.9167 - val_loss: 0.6156 - val_accuracy: 0.8587\n",
      "Epoch 67/100\n",
      "1313/1313 [==============================] - 10s 8ms/step - loss: 0.2628 - accuracy: 0.9158 - val_loss: 0.5860 - val_accuracy: 0.8625\n",
      "Epoch 68/100\n",
      "1313/1313 [==============================] - 10s 8ms/step - loss: 0.2652 - accuracy: 0.9164 - val_loss: 0.5814 - val_accuracy: 0.8671\n",
      "Epoch 69/100\n",
      "1313/1313 [==============================] - 10s 8ms/step - loss: 0.2579 - accuracy: 0.9180 - val_loss: 0.6298 - val_accuracy: 0.8594\n",
      "Epoch 70/100\n",
      "1313/1313 [==============================] - 10s 8ms/step - loss: 0.2515 - accuracy: 0.9196 - val_loss: 0.6022 - val_accuracy: 0.8634\n",
      "Epoch 71/100\n",
      "1313/1313 [==============================] - 10s 8ms/step - loss: 0.2506 - accuracy: 0.9195 - val_loss: 0.6171 - val_accuracy: 0.8655\n",
      "Epoch 72/100\n",
      "1313/1313 [==============================] - 10s 8ms/step - loss: 0.2565 - accuracy: 0.9188 - val_loss: 0.6496 - val_accuracy: 0.8633\n",
      "Epoch 73/100\n",
      "1313/1313 [==============================] - 10s 8ms/step - loss: 0.2473 - accuracy: 0.9211 - val_loss: 0.6503 - val_accuracy: 0.8621\n",
      "Epoch 74/100\n",
      "1313/1313 [==============================] - 11s 8ms/step - loss: 0.2533 - accuracy: 0.9199 - val_loss: 0.6061 - val_accuracy: 0.8622\n",
      "Epoch 75/100\n",
      "1313/1313 [==============================] - 11s 8ms/step - loss: 0.2505 - accuracy: 0.9199 - val_loss: 0.6116 - val_accuracy: 0.8641\n",
      "Epoch 76/100\n",
      "1313/1313 [==============================] - 11s 8ms/step - loss: 0.2469 - accuracy: 0.9204 - val_loss: 0.6253 - val_accuracy: 0.8662\n",
      "Epoch 77/100\n",
      "1313/1313 [==============================] - 11s 8ms/step - loss: 0.2456 - accuracy: 0.9222 - val_loss: 0.6648 - val_accuracy: 0.8588\n",
      "Epoch 78/100\n",
      "1313/1313 [==============================] - 11s 8ms/step - loss: 0.2489 - accuracy: 0.9203 - val_loss: 0.5981 - val_accuracy: 0.8639\n",
      "Epoch 79/100\n",
      "1313/1313 [==============================] - 11s 8ms/step - loss: 0.2362 - accuracy: 0.9254 - val_loss: 0.6115 - val_accuracy: 0.8667\n",
      "Epoch 80/100\n",
      "1313/1313 [==============================] - 10s 8ms/step - loss: 0.2389 - accuracy: 0.9244 - val_loss: 0.6302 - val_accuracy: 0.8673\n",
      "Epoch 81/100\n",
      "1313/1313 [==============================] - 10s 8ms/step - loss: 0.2409 - accuracy: 0.9230 - val_loss: 0.6660 - val_accuracy: 0.8607\n",
      "Epoch 82/100\n",
      "1313/1313 [==============================] - 10s 8ms/step - loss: 0.2397 - accuracy: 0.9257 - val_loss: 0.6215 - val_accuracy: 0.8634\n",
      "Epoch 83/100\n",
      "1313/1313 [==============================] - 11s 8ms/step - loss: 0.2420 - accuracy: 0.9244 - val_loss: 0.6013 - val_accuracy: 0.8660\n",
      "Epoch 84/100\n",
      "1313/1313 [==============================] - 10s 8ms/step - loss: 0.2290 - accuracy: 0.9272 - val_loss: 0.6251 - val_accuracy: 0.8649\n",
      "Epoch 85/100\n",
      "1313/1313 [==============================] - 10s 8ms/step - loss: 0.2377 - accuracy: 0.9248 - val_loss: 0.6299 - val_accuracy: 0.8651\n",
      "Epoch 86/100\n",
      "1313/1313 [==============================] - 10s 8ms/step - loss: 0.2397 - accuracy: 0.9235 - val_loss: 0.6423 - val_accuracy: 0.8592\n",
      "Epoch 87/100\n",
      "1313/1313 [==============================] - 10s 8ms/step - loss: 0.2305 - accuracy: 0.9268 - val_loss: 0.6121 - val_accuracy: 0.8649\n",
      "Epoch 88/100\n",
      "1313/1313 [==============================] - 10s 8ms/step - loss: 0.2320 - accuracy: 0.9260 - val_loss: 0.6685 - val_accuracy: 0.8602\n",
      "Epoch 89/100\n",
      "1313/1313 [==============================] - 10s 8ms/step - loss: 0.2333 - accuracy: 0.9257 - val_loss: 0.6371 - val_accuracy: 0.8621\n",
      "Epoch 90/100\n",
      "1313/1313 [==============================] - 10s 8ms/step - loss: 0.2289 - accuracy: 0.9265 - val_loss: 0.6303 - val_accuracy: 0.8653\n",
      "Epoch 91/100\n",
      "1313/1313 [==============================] - 10s 8ms/step - loss: 0.2288 - accuracy: 0.9272 - val_loss: 0.6208 - val_accuracy: 0.8628\n",
      "Epoch 92/100\n",
      "1313/1313 [==============================] - 11s 8ms/step - loss: 0.2264 - accuracy: 0.9284 - val_loss: 0.6495 - val_accuracy: 0.8611\n",
      "Epoch 93/100\n",
      "1313/1313 [==============================] - 11s 9ms/step - loss: 0.2256 - accuracy: 0.9281 - val_loss: 0.6653 - val_accuracy: 0.8611\n",
      "Epoch 94/100\n",
      "1313/1313 [==============================] - 11s 8ms/step - loss: 0.2263 - accuracy: 0.9280 - val_loss: 0.6429 - val_accuracy: 0.8634\n",
      "Epoch 95/100\n",
      "1313/1313 [==============================] - 10s 8ms/step - loss: 0.2237 - accuracy: 0.9287 - val_loss: 0.6400 - val_accuracy: 0.8661\n",
      "Epoch 96/100\n",
      "1313/1313 [==============================] - 10s 8ms/step - loss: 0.2251 - accuracy: 0.9294 - val_loss: 0.6809 - val_accuracy: 0.8619\n",
      "Epoch 97/100\n",
      "1313/1313 [==============================] - 10s 8ms/step - loss: 0.2245 - accuracy: 0.9303 - val_loss: 0.6478 - val_accuracy: 0.8623\n",
      "Epoch 98/100\n",
      "1313/1313 [==============================] - 10s 8ms/step - loss: 0.2261 - accuracy: 0.9288 - val_loss: 0.6689 - val_accuracy: 0.8622\n",
      "Epoch 99/100\n",
      "1313/1313 [==============================] - 10s 8ms/step - loss: 0.2207 - accuracy: 0.9295 - val_loss: 0.6380 - val_accuracy: 0.8668\n",
      "Epoch 100/100\n",
      "1313/1313 [==============================] - 10s 8ms/step - loss: 0.2242 - accuracy: 0.9304 - val_loss: 0.6400 - val_accuracy: 0.8626\n"
     ]
    },
    {
     "data": {
      "text/plain": [
       "<tensorflow.python.keras.callbacks.History at 0x7f750d968a58>"
      ]
     },
     "execution_count": 20,
     "metadata": {
      "tags": []
     },
     "output_type": "execute_result"
    }
   ],
   "source": [
    "# Fitting the model\n",
    "relu_model.fit(X_train,y_train,validation_data=(X_test,y_test),epochs=100, batch_size=32)"
   ]
  },
  {
   "cell_type": "markdown",
   "metadata": {
    "colab_type": "text",
    "id": "iATsEpcRl7i1"
   },
   "source": [
    "Epoch 100/100 | ReLU activation function |\n",
    "loss: 0.2242|accuracy: 0.9304 | val_loss: 0.6400 | val_accuracy: 0.8626 | Optimizer = Adam"
   ]
  },
  {
   "cell_type": "code",
   "execution_count": 0,
   "metadata": {
    "colab": {},
    "colab_type": "code",
    "id": "zsDygcnOmK3t"
   },
   "outputs": [],
   "source": [
    "\"\"\"# Model configuration\n",
    "img_width, img_height = 28, 28\n",
    "batch_size = 250\n",
    "no_epochs = 25\n",
    "no_classes = 10\n",
    "validation_split = 0.2\n",
    "verbosity = 1\n",
    "leaky_relu_alpha = 0.1\"\"\"\n",
    "\n",
    "tanh_model = tf.keras.models.Sequential() #initializing Sequential model\n",
    "tanh_model.add(tf.keras.layers.Reshape((1024,),input_shape=(32,32,))) #Reshaping the data to 1D.\n",
    "tanh_model.add(tf.keras.layers.BatchNormalization()) #Normalize the data\n",
    "\n",
    "# Build the layers with Tanh function\n",
    "\n",
    "tanh_model.add(tf.keras.layers.Dense(400, activation = 'relu')) # 1st hidden layer\n",
    "tanh_model.add(tf.keras.layers.Dense(200, activation = 'relu')) # 2nd hidden layer\n",
    "tanh_model.add(tf.keras.layers.Dense(100, activation = 'relu')) # 3rd hidden layer\n",
    "tanh_model.add(tf.keras.layers.Dense(50, activation = 'relu')) # 4th hidden layer\n",
    "tanh_model.add(tf.keras.layers.Dense(10, activation = 'softmax')) # Output layer\n",
    "\n",
    "# compile the model\n",
    "tanh_model.compile(optimizer='adam', loss = 'categorical_crossentropy', metrics=['accuracy'] )"
   ]
  },
  {
   "cell_type": "code",
   "execution_count": 23,
   "metadata": {
    "colab": {
     "base_uri": "https://localhost:8080/",
     "height": 1000
    },
    "colab_type": "code",
    "executionInfo": {
     "elapsed": 8031,
     "status": "ok",
     "timestamp": 1589722043091,
     "user": {
      "displayName": "Anamay tamrakar",
      "photoUrl": "https://lh3.googleusercontent.com/a-/AOh14GhquhLUHnKEDe6-3g6DT_G8Wu17P9ZKYAQbxLx7qw=s64",
      "userId": "03768491071577504839"
     },
     "user_tz": -330
    },
    "id": "w-0z9E-JmO6P",
    "outputId": "ca46d6a5-2246-456a-b08f-17d9df16b627"
   },
   "outputs": [
    {
     "name": "stdout",
     "output_type": "stream",
     "text": [
      "Epoch 1/100\n",
      "1313/1313 [==============================] - 11s 9ms/step - loss: 1.4065 - accuracy: 0.5302 - val_loss: 0.9942 - val_accuracy: 0.6843\n",
      "Epoch 2/100\n",
      "1313/1313 [==============================] - 11s 8ms/step - loss: 0.9911 - accuracy: 0.6846 - val_loss: 0.8330 - val_accuracy: 0.7442\n",
      "Epoch 3/100\n",
      "1313/1313 [==============================] - 11s 9ms/step - loss: 0.8667 - accuracy: 0.7249 - val_loss: 0.7264 - val_accuracy: 0.7829\n",
      "Epoch 4/100\n",
      "1313/1313 [==============================] - 11s 9ms/step - loss: 0.7821 - accuracy: 0.7553 - val_loss: 0.7135 - val_accuracy: 0.7854\n",
      "Epoch 5/100\n",
      "1313/1313 [==============================] - 11s 8ms/step - loss: 0.7257 - accuracy: 0.7709 - val_loss: 0.6399 - val_accuracy: 0.8077\n",
      "Epoch 6/100\n",
      "1313/1313 [==============================] - 11s 8ms/step - loss: 0.6849 - accuracy: 0.7841 - val_loss: 0.6335 - val_accuracy: 0.8097\n",
      "Epoch 7/100\n",
      "1313/1313 [==============================] - 11s 8ms/step - loss: 0.6480 - accuracy: 0.7957 - val_loss: 0.6664 - val_accuracy: 0.8007\n",
      "Epoch 8/100\n",
      "1313/1313 [==============================] - 11s 8ms/step - loss: 0.6166 - accuracy: 0.8029 - val_loss: 0.6140 - val_accuracy: 0.8191\n",
      "Epoch 9/100\n",
      "1313/1313 [==============================] - 11s 8ms/step - loss: 0.5996 - accuracy: 0.8104 - val_loss: 0.5991 - val_accuracy: 0.8211\n",
      "Epoch 10/100\n",
      "1313/1313 [==============================] - 11s 8ms/step - loss: 0.5724 - accuracy: 0.8175 - val_loss: 0.5763 - val_accuracy: 0.8314\n",
      "Epoch 11/100\n",
      "1313/1313 [==============================] - 11s 8ms/step - loss: 0.5517 - accuracy: 0.8255 - val_loss: 0.5823 - val_accuracy: 0.8288\n",
      "Epoch 12/100\n",
      "1313/1313 [==============================] - 11s 8ms/step - loss: 0.5376 - accuracy: 0.8286 - val_loss: 0.5710 - val_accuracy: 0.8344\n",
      "Epoch 13/100\n",
      "1313/1313 [==============================] - 11s 8ms/step - loss: 0.5157 - accuracy: 0.8344 - val_loss: 0.5440 - val_accuracy: 0.8421\n",
      "Epoch 14/100\n",
      "1313/1313 [==============================] - 11s 8ms/step - loss: 0.5032 - accuracy: 0.8398 - val_loss: 0.5544 - val_accuracy: 0.8416\n",
      "Epoch 15/100\n",
      "1313/1313 [==============================] - 11s 8ms/step - loss: 0.4888 - accuracy: 0.8448 - val_loss: 0.5347 - val_accuracy: 0.8481\n",
      "Epoch 16/100\n",
      "1313/1313 [==============================] - 11s 8ms/step - loss: 0.4787 - accuracy: 0.8474 - val_loss: 0.5618 - val_accuracy: 0.8398\n",
      "Epoch 17/100\n",
      "1313/1313 [==============================] - 11s 8ms/step - loss: 0.4746 - accuracy: 0.8488 - val_loss: 0.5348 - val_accuracy: 0.8461\n",
      "Epoch 18/100\n",
      "1313/1313 [==============================] - 11s 8ms/step - loss: 0.4512 - accuracy: 0.8537 - val_loss: 0.5493 - val_accuracy: 0.8490\n",
      "Epoch 19/100\n",
      "1313/1313 [==============================] - 11s 9ms/step - loss: 0.4496 - accuracy: 0.8553 - val_loss: 0.5501 - val_accuracy: 0.8469\n",
      "Epoch 20/100\n",
      "1313/1313 [==============================] - 11s 8ms/step - loss: 0.4361 - accuracy: 0.8594 - val_loss: 0.5510 - val_accuracy: 0.8502\n",
      "Epoch 21/100\n",
      "1313/1313 [==============================] - 11s 8ms/step - loss: 0.4257 - accuracy: 0.8635 - val_loss: 0.5288 - val_accuracy: 0.8523\n",
      "Epoch 22/100\n",
      "1313/1313 [==============================] - 11s 8ms/step - loss: 0.4243 - accuracy: 0.8655 - val_loss: 0.5400 - val_accuracy: 0.8479\n",
      "Epoch 23/100\n",
      "1313/1313 [==============================] - 11s 8ms/step - loss: 0.4098 - accuracy: 0.8677 - val_loss: 0.5397 - val_accuracy: 0.8536\n",
      "Epoch 24/100\n",
      "1313/1313 [==============================] - 11s 9ms/step - loss: 0.4125 - accuracy: 0.8676 - val_loss: 0.5791 - val_accuracy: 0.8439\n",
      "Epoch 25/100\n",
      "1313/1313 [==============================] - 11s 8ms/step - loss: 0.3992 - accuracy: 0.8731 - val_loss: 0.5682 - val_accuracy: 0.8450\n",
      "Epoch 26/100\n",
      "1313/1313 [==============================] - 11s 8ms/step - loss: 0.3952 - accuracy: 0.8727 - val_loss: 0.5347 - val_accuracy: 0.8519\n",
      "Epoch 27/100\n",
      "1313/1313 [==============================] - 11s 9ms/step - loss: 0.3841 - accuracy: 0.8763 - val_loss: 0.5428 - val_accuracy: 0.8571\n",
      "Epoch 28/100\n",
      "1313/1313 [==============================] - 11s 9ms/step - loss: 0.3866 - accuracy: 0.8747 - val_loss: 0.5656 - val_accuracy: 0.8475\n",
      "Epoch 29/100\n",
      "1313/1313 [==============================] - 11s 8ms/step - loss: 0.3833 - accuracy: 0.8770 - val_loss: 0.5561 - val_accuracy: 0.8504\n",
      "Epoch 30/100\n",
      "1313/1313 [==============================] - 11s 8ms/step - loss: 0.3742 - accuracy: 0.8801 - val_loss: 0.5325 - val_accuracy: 0.8616\n",
      "Epoch 31/100\n",
      "1313/1313 [==============================] - 11s 9ms/step - loss: 0.3721 - accuracy: 0.8821 - val_loss: 0.5340 - val_accuracy: 0.8596\n",
      "Epoch 32/100\n",
      "1313/1313 [==============================] - 11s 8ms/step - loss: 0.3620 - accuracy: 0.8817 - val_loss: 0.5501 - val_accuracy: 0.8584\n",
      "Epoch 33/100\n",
      "1313/1313 [==============================] - 11s 8ms/step - loss: 0.3631 - accuracy: 0.8845 - val_loss: 0.5526 - val_accuracy: 0.8559\n",
      "Epoch 34/100\n",
      "1313/1313 [==============================] - 11s 8ms/step - loss: 0.3493 - accuracy: 0.8891 - val_loss: 0.5716 - val_accuracy: 0.8546\n",
      "Epoch 35/100\n",
      "1313/1313 [==============================] - 11s 8ms/step - loss: 0.3542 - accuracy: 0.8858 - val_loss: 0.5444 - val_accuracy: 0.8621\n",
      "Epoch 36/100\n",
      "1313/1313 [==============================] - 11s 8ms/step - loss: 0.3479 - accuracy: 0.8897 - val_loss: 0.5940 - val_accuracy: 0.8507\n",
      "Epoch 37/100\n",
      "1313/1313 [==============================] - 11s 8ms/step - loss: 0.3455 - accuracy: 0.8895 - val_loss: 0.5682 - val_accuracy: 0.8596\n",
      "Epoch 38/100\n",
      "1313/1313 [==============================] - 11s 8ms/step - loss: 0.3397 - accuracy: 0.8900 - val_loss: 0.5634 - val_accuracy: 0.8578\n",
      "Epoch 39/100\n",
      "1313/1313 [==============================] - 11s 8ms/step - loss: 0.3322 - accuracy: 0.8929 - val_loss: 0.5448 - val_accuracy: 0.8620\n",
      "Epoch 40/100\n",
      "1313/1313 [==============================] - 11s 9ms/step - loss: 0.3262 - accuracy: 0.8947 - val_loss: 0.5874 - val_accuracy: 0.8543\n",
      "Epoch 41/100\n",
      "1313/1313 [==============================] - 11s 9ms/step - loss: 0.3361 - accuracy: 0.8926 - val_loss: 0.5665 - val_accuracy: 0.8586\n",
      "Epoch 42/100\n",
      "1313/1313 [==============================] - 11s 9ms/step - loss: 0.3299 - accuracy: 0.8941 - val_loss: 0.5666 - val_accuracy: 0.8578\n",
      "Epoch 43/100\n",
      "1313/1313 [==============================] - 11s 9ms/step - loss: 0.3210 - accuracy: 0.8965 - val_loss: 0.5728 - val_accuracy: 0.8589\n",
      "Epoch 44/100\n",
      "1313/1313 [==============================] - 11s 8ms/step - loss: 0.3171 - accuracy: 0.8983 - val_loss: 0.5478 - val_accuracy: 0.8633\n",
      "Epoch 45/100\n",
      "1313/1313 [==============================] - 12s 9ms/step - loss: 0.3124 - accuracy: 0.9005 - val_loss: 0.5935 - val_accuracy: 0.8575\n",
      "Epoch 46/100\n",
      "1313/1313 [==============================] - 15s 11ms/step - loss: 0.3157 - accuracy: 0.8980 - val_loss: 0.5921 - val_accuracy: 0.8573\n",
      "Epoch 47/100\n",
      "1313/1313 [==============================] - 11s 8ms/step - loss: 0.3109 - accuracy: 0.8998 - val_loss: 0.5842 - val_accuracy: 0.8581\n",
      "Epoch 48/100\n",
      "1313/1313 [==============================] - 11s 8ms/step - loss: 0.3071 - accuracy: 0.9014 - val_loss: 0.5630 - val_accuracy: 0.8617\n",
      "Epoch 49/100\n",
      "1313/1313 [==============================] - 11s 8ms/step - loss: 0.3008 - accuracy: 0.9055 - val_loss: 0.5855 - val_accuracy: 0.8584\n",
      "Epoch 50/100\n",
      "1313/1313 [==============================] - 11s 8ms/step - loss: 0.3040 - accuracy: 0.9035 - val_loss: 0.5970 - val_accuracy: 0.8614\n",
      "Epoch 51/100\n",
      "1313/1313 [==============================] - 11s 9ms/step - loss: 0.3037 - accuracy: 0.9028 - val_loss: 0.5989 - val_accuracy: 0.8587\n",
      "Epoch 52/100\n",
      "1313/1313 [==============================] - 11s 8ms/step - loss: 0.2974 - accuracy: 0.9047 - val_loss: 0.5987 - val_accuracy: 0.8603\n",
      "Epoch 53/100\n",
      "1313/1313 [==============================] - 11s 8ms/step - loss: 0.2981 - accuracy: 0.9052 - val_loss: 0.5714 - val_accuracy: 0.8627\n",
      "Epoch 54/100\n",
      "1313/1313 [==============================] - 11s 8ms/step - loss: 0.2911 - accuracy: 0.9075 - val_loss: 0.6030 - val_accuracy: 0.8594\n",
      "Epoch 55/100\n",
      "1313/1313 [==============================] - 11s 8ms/step - loss: 0.2906 - accuracy: 0.9067 - val_loss: 0.5870 - val_accuracy: 0.8658\n",
      "Epoch 56/100\n",
      "1313/1313 [==============================] - 13s 10ms/step - loss: 0.2950 - accuracy: 0.9060 - val_loss: 0.6021 - val_accuracy: 0.8577\n",
      "Epoch 57/100\n",
      "1313/1313 [==============================] - 11s 8ms/step - loss: 0.2870 - accuracy: 0.9076 - val_loss: 0.5946 - val_accuracy: 0.8608\n",
      "Epoch 58/100\n",
      "1313/1313 [==============================] - 11s 8ms/step - loss: 0.2836 - accuracy: 0.9094 - val_loss: 0.6210 - val_accuracy: 0.8520\n",
      "Epoch 59/100\n",
      "1313/1313 [==============================] - 11s 9ms/step - loss: 0.2888 - accuracy: 0.9076 - val_loss: 0.5892 - val_accuracy: 0.8644\n",
      "Epoch 60/100\n",
      "1313/1313 [==============================] - 11s 8ms/step - loss: 0.2822 - accuracy: 0.9099 - val_loss: 0.6021 - val_accuracy: 0.8649\n",
      "Epoch 61/100\n",
      "1313/1313 [==============================] - 11s 8ms/step - loss: 0.2752 - accuracy: 0.9119 - val_loss: 0.5900 - val_accuracy: 0.8641\n",
      "Epoch 62/100\n",
      "1313/1313 [==============================] - 11s 8ms/step - loss: 0.2719 - accuracy: 0.9126 - val_loss: 0.5806 - val_accuracy: 0.8640\n",
      "Epoch 63/100\n",
      "1313/1313 [==============================] - 11s 8ms/step - loss: 0.2786 - accuracy: 0.9108 - val_loss: 0.6356 - val_accuracy: 0.8582\n",
      "Epoch 64/100\n",
      "1313/1313 [==============================] - 11s 8ms/step - loss: 0.2715 - accuracy: 0.9138 - val_loss: 0.6056 - val_accuracy: 0.8631\n",
      "Epoch 65/100\n",
      "1313/1313 [==============================] - 11s 8ms/step - loss: 0.2736 - accuracy: 0.9141 - val_loss: 0.5933 - val_accuracy: 0.8649\n",
      "Epoch 66/100\n",
      "1313/1313 [==============================] - 11s 8ms/step - loss: 0.2682 - accuracy: 0.9139 - val_loss: 0.6229 - val_accuracy: 0.8593\n",
      "Epoch 67/100\n",
      "1313/1313 [==============================] - 11s 8ms/step - loss: 0.2672 - accuracy: 0.9134 - val_loss: 0.6350 - val_accuracy: 0.8619\n",
      "Epoch 68/100\n",
      "1313/1313 [==============================] - 11s 8ms/step - loss: 0.2670 - accuracy: 0.9161 - val_loss: 0.6216 - val_accuracy: 0.8599\n",
      "Epoch 69/100\n",
      "1313/1313 [==============================] - 11s 8ms/step - loss: 0.2615 - accuracy: 0.9155 - val_loss: 0.6361 - val_accuracy: 0.8569\n",
      "Epoch 70/100\n",
      "1313/1313 [==============================] - 11s 8ms/step - loss: 0.2644 - accuracy: 0.9158 - val_loss: 0.6425 - val_accuracy: 0.8583\n",
      "Epoch 71/100\n",
      "1313/1313 [==============================] - 14s 11ms/step - loss: 0.2638 - accuracy: 0.9167 - val_loss: 0.6161 - val_accuracy: 0.8635\n",
      "Epoch 72/100\n",
      "1313/1313 [==============================] - 11s 8ms/step - loss: 0.2633 - accuracy: 0.9195 - val_loss: 0.6278 - val_accuracy: 0.8630\n",
      "Epoch 73/100\n",
      "1313/1313 [==============================] - 11s 8ms/step - loss: 0.2635 - accuracy: 0.9159 - val_loss: 0.6214 - val_accuracy: 0.8584\n",
      "Epoch 74/100\n",
      "1313/1313 [==============================] - 11s 8ms/step - loss: 0.2522 - accuracy: 0.9192 - val_loss: 0.6309 - val_accuracy: 0.8639\n",
      "Epoch 75/100\n",
      "1313/1313 [==============================] - 11s 8ms/step - loss: 0.2549 - accuracy: 0.9190 - val_loss: 0.6360 - val_accuracy: 0.8639\n",
      "Epoch 76/100\n",
      "1313/1313 [==============================] - 11s 8ms/step - loss: 0.2568 - accuracy: 0.9190 - val_loss: 0.6066 - val_accuracy: 0.8634\n",
      "Epoch 77/100\n",
      "1313/1313 [==============================] - 11s 8ms/step - loss: 0.2477 - accuracy: 0.9201 - val_loss: 0.6386 - val_accuracy: 0.8641\n",
      "Epoch 78/100\n",
      "1313/1313 [==============================] - 11s 8ms/step - loss: 0.2508 - accuracy: 0.9213 - val_loss: 0.6079 - val_accuracy: 0.8647\n",
      "Epoch 79/100\n",
      "1313/1313 [==============================] - 11s 9ms/step - loss: 0.2447 - accuracy: 0.9216 - val_loss: 0.6404 - val_accuracy: 0.8596\n",
      "Epoch 80/100\n",
      "1313/1313 [==============================] - 11s 8ms/step - loss: 0.2438 - accuracy: 0.9218 - val_loss: 0.6285 - val_accuracy: 0.8639\n",
      "Epoch 81/100\n",
      "1313/1313 [==============================] - 11s 8ms/step - loss: 0.2493 - accuracy: 0.9216 - val_loss: 0.6097 - val_accuracy: 0.8653\n",
      "Epoch 82/100\n",
      "1313/1313 [==============================] - 11s 8ms/step - loss: 0.2489 - accuracy: 0.9204 - val_loss: 0.6346 - val_accuracy: 0.8617\n",
      "Epoch 83/100\n",
      "1313/1313 [==============================] - 12s 9ms/step - loss: 0.2457 - accuracy: 0.9212 - val_loss: 0.6633 - val_accuracy: 0.8599\n",
      "Epoch 84/100\n",
      "1313/1313 [==============================] - 12s 9ms/step - loss: 0.2461 - accuracy: 0.9208 - val_loss: 0.6457 - val_accuracy: 0.8602\n",
      "Epoch 85/100\n",
      "1313/1313 [==============================] - 11s 8ms/step - loss: 0.2405 - accuracy: 0.9240 - val_loss: 0.6621 - val_accuracy: 0.8622\n",
      "Epoch 86/100\n",
      "1313/1313 [==============================] - 11s 9ms/step - loss: 0.2389 - accuracy: 0.9246 - val_loss: 0.6566 - val_accuracy: 0.8603\n",
      "Epoch 87/100\n",
      "1313/1313 [==============================] - 11s 8ms/step - loss: 0.2357 - accuracy: 0.9245 - val_loss: 0.6134 - val_accuracy: 0.8632\n",
      "Epoch 88/100\n",
      "1313/1313 [==============================] - 11s 8ms/step - loss: 0.2331 - accuracy: 0.9259 - val_loss: 0.6549 - val_accuracy: 0.8591\n",
      "Epoch 89/100\n",
      "1313/1313 [==============================] - 11s 8ms/step - loss: 0.2439 - accuracy: 0.9240 - val_loss: 0.6561 - val_accuracy: 0.8569\n",
      "Epoch 90/100\n",
      "1313/1313 [==============================] - 11s 9ms/step - loss: 0.2367 - accuracy: 0.9263 - val_loss: 0.6389 - val_accuracy: 0.8624\n",
      "Epoch 91/100\n",
      "1313/1313 [==============================] - 12s 9ms/step - loss: 0.2385 - accuracy: 0.9253 - val_loss: 0.6610 - val_accuracy: 0.8621\n",
      "Epoch 92/100\n",
      "1313/1313 [==============================] - 11s 9ms/step - loss: 0.2323 - accuracy: 0.9249 - val_loss: 0.6719 - val_accuracy: 0.8593\n",
      "Epoch 93/100\n",
      "1313/1313 [==============================] - 12s 9ms/step - loss: 0.2389 - accuracy: 0.9251 - val_loss: 0.6189 - val_accuracy: 0.8663\n",
      "Epoch 94/100\n",
      "1313/1313 [==============================] - 12s 9ms/step - loss: 0.2337 - accuracy: 0.9275 - val_loss: 0.6824 - val_accuracy: 0.8571\n",
      "Epoch 95/100\n",
      "1313/1313 [==============================] - 11s 9ms/step - loss: 0.2314 - accuracy: 0.9287 - val_loss: 0.6431 - val_accuracy: 0.8617\n",
      "Epoch 96/100\n",
      "1313/1313 [==============================] - 11s 9ms/step - loss: 0.2323 - accuracy: 0.9255 - val_loss: 0.6453 - val_accuracy: 0.8636\n",
      "Epoch 97/100\n",
      "1313/1313 [==============================] - 11s 9ms/step - loss: 0.2238 - accuracy: 0.9289 - val_loss: 0.6355 - val_accuracy: 0.8643\n",
      "Epoch 98/100\n",
      "1313/1313 [==============================] - 11s 9ms/step - loss: 0.2264 - accuracy: 0.9291 - val_loss: 0.6765 - val_accuracy: 0.8563\n",
      "Epoch 99/100\n",
      "1313/1313 [==============================] - 11s 8ms/step - loss: 0.2270 - accuracy: 0.9291 - val_loss: 0.6684 - val_accuracy: 0.8624\n",
      "Epoch 100/100\n",
      "1313/1313 [==============================] - 11s 8ms/step - loss: 0.2280 - accuracy: 0.9282 - val_loss: 0.6492 - val_accuracy: 0.8643\n"
     ]
    },
    {
     "data": {
      "text/plain": [
       "<tensorflow.python.keras.callbacks.History at 0x7f750e0f02b0>"
      ]
     },
     "execution_count": 23,
     "metadata": {
      "tags": []
     },
     "output_type": "execute_result"
    }
   ],
   "source": [
    "tanh_model.fit(X_train,y_train,validation_data=(X_test,y_test),epochs=100, batch_size=32)"
   ]
  },
  {
   "cell_type": "markdown",
   "metadata": {
    "colab_type": "text",
    "id": "98H0be_V1Yl6"
   },
   "source": [
    "Epoch 100/100 | loss: 0.2280 | accuracy: 0.9282 | val_loss: 0.6492 | val_accuracy: 0.8643\n"
   ]
  },
  {
   "cell_type": "markdown",
   "metadata": {
    "colab_type": "text",
    "id": "5FZc-VODEaPS"
   },
   "source": [
    "# **Classification Accuracy Metrics**\n",
    "**Model Accuracy(sigmoid)** - Loss: 0.2557 - Accuracy: 0.9155 - Validation_loss: 0.5022 - Validation_Accuracy: 0.8648\n",
    "\n",
    "**Model Accuracy(tanh)**| Loss: 0.2280 | Accuracy: 0.9282 | val_loss: 0.6492 | val_accuracy: 0.8643\n",
    "\n",
    "**Model Accuracy(ReLU)** Loss: 0.2242 | Accuracy: 0.9304 | val_loss: 0.6400 | val_accuracy: 0.8626 | Optimizer = Adam\n",
    "\n",
    "\n"
   ]
  },
  {
   "cell_type": "code",
   "execution_count": 43,
   "metadata": {
    "colab": {
     "base_uri": "https://localhost:8080/",
     "height": 34
    },
    "colab_type": "code",
    "executionInfo": {
     "elapsed": 1095,
     "status": "ok",
     "timestamp": 1589727220029,
     "user": {
      "displayName": "Anamay tamrakar",
      "photoUrl": "https://lh3.googleusercontent.com/a-/AOh14GhquhLUHnKEDe6-3g6DT_G8Wu17P9ZKYAQbxLx7qw=s64",
      "userId": "03768491071577504839"
     },
     "user_tz": -330
    },
    "id": "8QyZSelmxxJR",
    "outputId": "07bd1664-21d2-4ddf-dde9-3ee08d18e4ba"
   },
   "outputs": [
    {
     "data": {
      "text/plain": [
       "'# Creating the Confusion Matrix\\nfrom sklearn.metrics import confusion_matrix\\ncm = confusion_matrix(X_train, y_train)'"
      ]
     },
     "execution_count": 43,
     "metadata": {
      "tags": []
     },
     "output_type": "execute_result"
    }
   ],
   "source": [
    "\"\"\"# Creating the Confusion Matrix\n",
    "from sklearn.metrics import confusion_matrix\n",
    "cm = confusion_matrix(X_train, y_train)\"\"\""
   ]
  },
  {
   "cell_type": "code",
   "execution_count": 39,
   "metadata": {
    "colab": {
     "base_uri": "https://localhost:8080/",
     "height": 51
    },
    "colab_type": "code",
    "executionInfo": {
     "elapsed": 4551,
     "status": "ok",
     "timestamp": 1589727098108,
     "user": {
      "displayName": "Anamay tamrakar",
      "photoUrl": "https://lh3.googleusercontent.com/a-/AOh14GhquhLUHnKEDe6-3g6DT_G8Wu17P9ZKYAQbxLx7qw=s64",
      "userId": "03768491071577504839"
     },
     "user_tz": -330
    },
    "id": "BOK1IjSL1nCZ",
    "outputId": "25f50e38-b869-4c47-d067-90d0d7a6b52e"
   },
   "outputs": [
    {
     "name": "stdout",
     "output_type": "stream",
     "text": [
      "Train set model evaluation: [0.12136296927928925, 0.963857114315033]\n",
      "Test Set model evaluation [0.5303829312324524, 0.8568333387374878]\n"
     ]
    }
   ],
   "source": [
    "# evaluate the model-sigmoid\n",
    "train_acc = model.evaluate(X_train, y_train, verbose=0)\n",
    "test_acc = model.evaluate(X_test, y_test, verbose=0)\n",
    "print(\"Train set model evaluation:\", train_acc)\n",
    "print(\"Test Set model evaluation\", test_acc)"
   ]
  },
  {
   "cell_type": "code",
   "execution_count": 41,
   "metadata": {
    "colab": {
     "base_uri": "https://localhost:8080/",
     "height": 51
    },
    "colab_type": "code",
    "executionInfo": {
     "elapsed": 4472,
     "status": "ok",
     "timestamp": 1589727150714,
     "user": {
      "displayName": "Anamay tamrakar",
      "photoUrl": "https://lh3.googleusercontent.com/a-/AOh14GhquhLUHnKEDe6-3g6DT_G8Wu17P9ZKYAQbxLx7qw=s64",
      "userId": "03768491071577504839"
     },
     "user_tz": -330
    },
    "id": "dZ5ARUvm6-zA",
    "outputId": "9d869c9a-1da8-4cd0-d394-356ca188c034"
   },
   "outputs": [
    {
     "name": "stdout",
     "output_type": "stream",
     "text": [
      "Train set model evaluation: [0.09614201635122299, 0.9716428518295288]\n",
      "Test Set model evaluation [0.6399933099746704, 0.8625555634498596]\n"
     ]
    }
   ],
   "source": [
    "# evaluate the model-relu\n",
    "train_acc_1 = relu_model.evaluate(X_train, y_train, verbose=0)\n",
    "test_acc_1 = relu_model.evaluate(X_test, y_test, verbose=0)\n",
    "print(\"Train set model evaluation:\", train_acc_1)\n",
    "print(\"Test Set model evaluation\", test_acc_1)"
   ]
  },
  {
   "cell_type": "code",
   "execution_count": 42,
   "metadata": {
    "colab": {
     "base_uri": "https://localhost:8080/",
     "height": 51
    },
    "colab_type": "code",
    "executionInfo": {
     "elapsed": 4254,
     "status": "ok",
     "timestamp": 1589727160867,
     "user": {
      "displayName": "Anamay tamrakar",
      "photoUrl": "https://lh3.googleusercontent.com/a-/AOh14GhquhLUHnKEDe6-3g6DT_G8Wu17P9ZKYAQbxLx7qw=s64",
      "userId": "03768491071577504839"
     },
     "user_tz": -330
    },
    "id": "-iTVmMU2HJzL",
    "outputId": "02dc3e9d-630e-4fd4-f96c-dee0a4b32400"
   },
   "outputs": [
    {
     "name": "stdout",
     "output_type": "stream",
     "text": [
      "Train set model evaluation: [0.08656045794487, 0.9736190438270569]\n",
      "Test Set model evaluation [0.6491671800613403, 0.8642777800559998]\n"
     ]
    }
   ],
   "source": [
    "# evaluate the model-relu\n",
    "train_acc_2 = tanh_model.evaluate(X_train, y_train, verbose=0)\n",
    "test_acc_2 = tanh_model.evaluate(X_test, y_test, verbose=0)\n",
    "print(\"Train set model evaluation:\", train_acc_2)\n",
    "print(\"Test Set model evaluation\", test_acc_2)"
   ]
  },
  {
   "cell_type": "code",
   "execution_count": 0,
   "metadata": {
    "colab": {},
    "colab_type": "code",
    "id": "_tKBxZYyHYOt"
   },
   "outputs": [],
   "source": [
    "\"\"\"# plot loss during training\n",
    "pyplot.subplot(211)\n",
    "pyplot.title('Loss')\n",
    "pyplot.plot(history.history['loss'], label='train')\n",
    "pyplot.plot(history.history['val_loss'], label='test')\n",
    "pyplot.legend()\n",
    "# plot accuracy during training\n",
    "pyplot.subplot(212)\n",
    "pyplot.title('Accuracy')\n",
    "pyplot.plot(history.history['accuracy'], label='train')\n",
    "pyplot.plot(history.history['val_accuracy'], label='test')\n",
    "pyplot.legend()\n",
    "pyplot.show()\"\"\""
   ]
  }
 ],
 "metadata": {
  "colab": {
   "authorship_tag": "ABX9TyPU50PebcuqWZl4kkUv6Qvn",
   "collapsed_sections": [],
   "mount_file_id": "1I3qSHzmbcrIq82FHvVELMl_AKDzdGcyS",
   "name": "SVHN-project.ipynb",
   "provenance": []
  },
  "kernelspec": {
   "display_name": "Python 3",
   "language": "python",
   "name": "python3"
  },
  "language_info": {
   "codemirror_mode": {
    "name": "ipython",
    "version": 3
   },
   "file_extension": ".py",
   "mimetype": "text/x-python",
   "name": "python",
   "nbconvert_exporter": "python",
   "pygments_lexer": "ipython3",
   "version": "3.7.7"
  }
 },
 "nbformat": 4,
 "nbformat_minor": 1
}
